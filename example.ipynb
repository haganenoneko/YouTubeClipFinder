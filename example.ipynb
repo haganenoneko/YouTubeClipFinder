{
 "cells": [
  {
   "cell_type": "code",
   "execution_count": null,
   "metadata": {},
   "outputs": [],
   "source": [
    "import logging \n",
    "from finder.main import Finder, DATADIR\n",
    "from typing import List, Tuple, Union"
   ]
  },
  {
   "cell_type": "markdown",
   "metadata": {},
   "source": [
    "There are two main ways to initialize the `Finder` object, depending on whether you already have your query audio downloaded or not. \n",
    "1. If you do, set `query` to be the path to your audio file. \n",
    "2. If not, you'll want to write something like this:\n",
    "\n",
    "```python\n",
    "myfinder = Finder(\n",
    "    source=r\"https://youtu.be/BmT8nFctYko\",             \n",
    "    query=r\"https://youtu.be/jJd98IWDn54\",\n",
    "    start=\"5:32\", \n",
    "    stop=\"5:50\", \n",
    "    fmt=139, \n",
    "    loc=DATADIR,\n",
    "    logname=\"jJd98IWDn54\"\n",
    ")\n",
    "```"
   ]
  },
  {
   "cell_type": "code",
   "execution_count": null,
   "metadata": {},
   "outputs": [],
   "source": [
    "# set up the finder object \n",
    "myfinder = Finder(\n",
    "    source=r\"https://youtu.be/BmT8nFctYko\",\n",
    "    query=\"./data/8KWnymfSczU_2.m4a\",\n",
    "    logname=\"8KWnymfSczU_2c\"\n",
    ")\n",
    "\n",
    "# create the bins \n",
    "myfinder.get_bins(\n",
    "    max_binwidth=150,\n",
    "    clip_edges=220,\n",
    "    binorder=\"linear\"\n",
    ")\n",
    "\n",
    "# save bins to log file \n",
    "logging.info(myfinder._bins_str)\n"
   ]
  },
  {
   "cell_type": "markdown",
   "metadata": {},
   "source": [
    "The cell above will download the query if it's not already available, and then sets up the clips of the source video which it will download. These clips are called 'bins' because they discretize the source video into equal-length bins with several adjustable parameters. \n",
    "\n",
    "In this case, I've set \n",
    "- `max_binwidth=150` : the maximum clip duration is 150s (2:30s) \n",
    "- `clip_edges=220` : ignore the first and last 220s of the source video\n",
    "- `binorder='linear'` : once the bins are setup, the clips will be downloaded in chronological order. \n",
    "\n",
    "For now, `binorder` doesn't quite make a difference, but I originally planned to stop the program when some threshold number of candidate timepoints had been identified. For example, other options are `random` and `mirrored`, which randomly shuffle the bins and 'mirror' the bins around the midpoint of the source video, respectively."
   ]
  },
  {
   "cell_type": "code",
   "execution_count": null,
   "metadata": {},
   "outputs": [],
   "source": [
    "candidates: List[Tuple[int, int], float] = []\n",
    "\n",
    "max_dl = 20\n",
    "start_bin = 39\n",
    "max_bin = 58\n",
    "max_wait_time = 180\n",
    "\n",
    "run_dict = dict(\n",
    "    max_dl=max_dl,\n",
    "    fmt=139,\n",
    "    loc=DATADIR,\n",
    "    keepfiles=True,\n",
    "    max_wait_time=max_wait_time\n",
    ")"
   ]
  },
  {
   "cell_type": "markdown",
   "metadata": {},
   "source": [
    "The cell above sets up the main program, which iterates through each bin and compares the query to the bins' audio. If the query is similar enough, the bin is considered a *candidate*, and will be added, along with its similarity score, to the list `candidates`. \n",
    "\n",
    "The other options are:\n",
    "- `max_dl` : the maximum number of source clips to download\n",
    "- `start_bin` : the index of the starting bin. This is the main reason why we saved the list of bins, which could number in the hundreds, to our log file! \n",
    "  - If we are unsuccessful with one part of the video, we may be interested in scanning another section.\n",
    "  - Or, we may have some prior knowledge about where we should begin our search. \n",
    "  - Whatever the case, if `start_bin = i`, we will be starting our search from the $(i-1)$-th bin.\n",
    "  - Note: if you are resuming/restarting a search, make sure to use the same `binorder` (and *not* `binorder=random`)! \n",
    "- `max_bin` : like `start_bin`, this is the index of the last bin that will be downloaded. Depending on `max_dl`, the duration of `bins`, the number of bins, and, of course, whether the search terminates early, we may never reach `max_bin`. However, this can be set for extra safety. \n",
    "- `max_wait_time` : this is the maximum amount of time to wait for the first clip to finish downloading. \n",
    "  - This only applies to the first clip, however, as clips are downloaded in batches of five. \n",
    "  - If your connection is slow, you may want to increase this. \n",
    "  - If your bins are very small/large, you will want to adjust this accordingly. "
   ]
  },
  {
   "cell_type": "code",
   "execution_count": null,
   "metadata": {},
   "outputs": [],
   "source": [
    "while len(candidates) < 1:\n",
    "    candidates = myfinder.run(\n",
    "        start_bin=start_bin,\n",
    "        **run_dict\n",
    "    )\n",
    "\n",
    "    start_bin += max_dl\n",
    "    if start_bin > max_bin:\n",
    "        break"
   ]
  },
  {
   "cell_type": "markdown",
   "metadata": {},
   "source": [
    "The cell above runs the main program, which stops when at least one candidate has been identified. This does *not* mean that the clips will not be downloaded. In fact, the batch of clips corresponding to the candidate bin will all be downloaded, as downloading prcedes processing. \n",
    "\n",
    "If you would like to instead do an exhaustive search, simply remove the reassignment of `candidates`. For example:\n",
    "\n",
    "```python\n",
    "while len(candidates) < 1:\n",
    "    candidates = myfinder.run(\n",
    "        start_bin=start_bin,\n",
    "        **run_dict\n",
    "    )\n",
    "\n",
    "    start_bin += max_dl\n",
    "    if start_bin > max_bin:\n",
    "        break\n",
    "```\n",
    "\n",
    "Of course, you may also want to adjust the threshold from 1 to some other number/condition. "
   ]
  },
  {
   "cell_type": "code",
   "execution_count": null,
   "metadata": {},
   "outputs": [],
   "source": [
    "from finder.postplot import ReadLog\n",
    "from pathlib import Path \n",
    "\n",
    "p = r\"./8KWnymfSczU_2c.log\"\n",
    "\n",
    "ReadLog(p).read(\n",
    "    save_csv=True, \n",
    "    save_fig=True,\n",
    "    outpath=Path.cwd() / 'output'\n",
    ")"
   ]
  },
  {
   "cell_type": "markdown",
   "metadata": {},
   "source": [
    "While the main script includes visualization, I've included a post-processing script that visualizes and saves candidates that were identified. \n",
    "\n",
    "The graph below shows the output of the program as written above. It has the source video's timestamps on the x-axis and the cross-correlation (similarity) between the query and each of the downloaded bins on the y-axis. Other features:\n",
    "- The threshold for candidacy is a cross-correlation score of 0.5, indicated by the dashed line. \n",
    "- The bin with the highest similarity to the query is enclosed by a purple circle. \n",
    "\n",
    "<img src=\"./output/8KWnymfSczU_2c_log.png\">"
   ]
  },
  {
   "cell_type": "markdown",
   "metadata": {},
   "source": [
    "Note, however, that *the most similar point is **not** always correct.* In fact, in this case, the correct bin was at (2:21:52, 1.48), whereas the most-similar bin was apparently at (1:41:58, 1.81). \n",
    "\n",
    "This discrepancy happens for a number of reasons, e.g. if the query video does not perfectly match the source. This is common if the query is from a clip, as clippers often remove silence and add various sound effects or background music. \n",
    "\n",
    "The cross-correlation method is quite sensitive, making even short audio clips sufficient. Thus, success is more likely when the query is as close to the original as possible. \n",
    "\n",
    "The code above also creates a `.csv` file that shows the results in a much more reader-friendly format than the original log file:"
   ]
  },
  {
   "cell_type": "code",
   "execution_count": 3,
   "metadata": {},
   "outputs": [
    {
     "data": {
      "text/html": [
       "<div>\n",
       "<style scoped>\n",
       "    .dataframe tbody tr th:only-of-type {\n",
       "        vertical-align: middle;\n",
       "    }\n",
       "\n",
       "    .dataframe tbody tr th {\n",
       "        vertical-align: top;\n",
       "    }\n",
       "\n",
       "    .dataframe thead th {\n",
       "        text-align: right;\n",
       "    }\n",
       "</style>\n",
       "<table border=\"1\" class=\"dataframe\">\n",
       "  <thead>\n",
       "    <tr style=\"text-align: right;\">\n",
       "      <th></th>\n",
       "      <th>Time</th>\n",
       "      <th>Correlation</th>\n",
       "    </tr>\n",
       "  </thead>\n",
       "  <tbody>\n",
       "    <tr>\n",
       "      <th>0</th>\n",
       "      <td>01:41:58</td>\n",
       "      <td>1.812128</td>\n",
       "    </tr>\n",
       "    <tr>\n",
       "      <th>14</th>\n",
       "      <td>02:21:52</td>\n",
       "      <td>1.482511</td>\n",
       "    </tr>\n",
       "    <tr>\n",
       "      <th>12</th>\n",
       "      <td>02:16:43</td>\n",
       "      <td>1.341701</td>\n",
       "    </tr>\n",
       "    <tr>\n",
       "      <th>6</th>\n",
       "      <td>01:57:09</td>\n",
       "      <td>1.077711</td>\n",
       "    </tr>\n",
       "    <tr>\n",
       "      <th>3</th>\n",
       "      <td>01:50:35</td>\n",
       "      <td>1.023812</td>\n",
       "    </tr>\n",
       "    <tr>\n",
       "      <th>1</th>\n",
       "      <td>01:44:21</td>\n",
       "      <td>0.981022</td>\n",
       "    </tr>\n",
       "    <tr>\n",
       "      <th>2</th>\n",
       "      <td>01:46:40</td>\n",
       "      <td>0.947678</td>\n",
       "    </tr>\n",
       "    <tr>\n",
       "      <th>9</th>\n",
       "      <td>02:08:10</td>\n",
       "      <td>0.905017</td>\n",
       "    </tr>\n",
       "    <tr>\n",
       "      <th>7</th>\n",
       "      <td>01:58:50</td>\n",
       "      <td>0.715186</td>\n",
       "    </tr>\n",
       "    <tr>\n",
       "      <th>8</th>\n",
       "      <td>02:02:41</td>\n",
       "      <td>0.714531</td>\n",
       "    </tr>\n",
       "    <tr>\n",
       "      <th>15</th>\n",
       "      <td>02:25:10</td>\n",
       "      <td>0.696213</td>\n",
       "    </tr>\n",
       "    <tr>\n",
       "      <th>4</th>\n",
       "      <td>01:53:17</td>\n",
       "      <td>0.662141</td>\n",
       "    </tr>\n",
       "    <tr>\n",
       "      <th>5</th>\n",
       "      <td>01:54:32</td>\n",
       "      <td>0.635047</td>\n",
       "    </tr>\n",
       "    <tr>\n",
       "      <th>11</th>\n",
       "      <td>02:15:41</td>\n",
       "      <td>0.603921</td>\n",
       "    </tr>\n",
       "    <tr>\n",
       "      <th>13</th>\n",
       "      <td>02:19:09</td>\n",
       "      <td>0.551957</td>\n",
       "    </tr>\n",
       "    <tr>\n",
       "      <th>10</th>\n",
       "      <td>02:11:58</td>\n",
       "      <td>0.533375</td>\n",
       "    </tr>\n",
       "  </tbody>\n",
       "</table>\n",
       "</div>"
      ],
      "text/plain": [
       "        Time  Correlation\n",
       "0   01:41:58     1.812128\n",
       "14  02:21:52     1.482511\n",
       "12  02:16:43     1.341701\n",
       "6   01:57:09     1.077711\n",
       "3   01:50:35     1.023812\n",
       "1   01:44:21     0.981022\n",
       "2   01:46:40     0.947678\n",
       "9   02:08:10     0.905017\n",
       "7   01:58:50     0.715186\n",
       "8   02:02:41     0.714531\n",
       "15  02:25:10     0.696213\n",
       "4   01:53:17     0.662141\n",
       "5   01:54:32     0.635047\n",
       "11  02:15:41     0.603921\n",
       "13  02:19:09     0.551957\n",
       "10  02:11:58     0.533375"
      ]
     },
     "execution_count": 3,
     "metadata": {},
     "output_type": "execute_result"
    }
   ],
   "source": [
    "import pandas as pd \n",
    "\n",
    "pd.read_csv(\n",
    "    './output/8KWnymfSczU_2c_parsed.csv', \n",
    "    header=0, \n",
    "    index_col=0\n",
    ")"
   ]
  },
  {
   "cell_type": "markdown",
   "metadata": {},
   "source": [
    "Note how the true bin placed second-highest in terms of correlation with the source. This is why it is often important to \n",
    "- look for multiple candidates, \n",
    "- have a relatively low threshold for detection (here, 0.5), and \n",
    "- consider large sections of the source video."
   ]
  }
 ],
 "metadata": {
  "interpreter": {
   "hash": "0802380955fb45c42ee6af905daa4975880d5bbc2e5380e844e48fb5cddadf4a"
  },
  "kernelspec": {
   "display_name": "Python 3.10.1 64-bit",
   "language": "python",
   "name": "python3"
  },
  "language_info": {
   "codemirror_mode": {
    "name": "ipython",
    "version": 3
   },
   "file_extension": ".py",
   "mimetype": "text/x-python",
   "name": "python",
   "nbconvert_exporter": "python",
   "pygments_lexer": "ipython3",
   "version": "3.10.1"
  },
  "orig_nbformat": 4
 },
 "nbformat": 4,
 "nbformat_minor": 2
}
